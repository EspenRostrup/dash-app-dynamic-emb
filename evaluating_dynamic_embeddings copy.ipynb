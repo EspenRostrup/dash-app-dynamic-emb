{
 "cells": [
  {
   "cell_type": "code",
   "execution_count": 12,
   "metadata": {},
   "outputs": [
    {
     "name": "stdout",
     "output_type": "stream",
     "text": [
      "The autoreload extension is already loaded. To reload it, use:\n",
      "  %reload_ext autoreload\n"
     ]
    }
   ],
   "source": [
    "%load_ext autoreload\n",
    "%autoreload 2\n",
    "\n",
    "import pandas as pd\n",
    "import gensim\n",
    "from gensim.models import Word2Vec\n",
    "from tqdm.auto import tqdm\n",
    "from plotly.subplots import make_subplots\n",
    "import plotly.io as pio\n",
    "from utils import *\n",
    "import warnings\n",
    "warnings.simplefilter(action='ignore', category=FutureWarning)\n",
    "\n",
    "tqdm.pandas()\n"
   ]
  },
  {
   "cell_type": "code",
   "execution_count": 22,
   "metadata": {},
   "outputs": [],
   "source": [
    "def plot_words_plotly(word1, words, fitted,sims,fig,fig_placement=[1,1]):\n",
    "    fig = fig.add_trace(go.Scatter(x=[],y=[],\n",
    "                     mode='text'),\n",
    "                     row=fig_placement[0],\n",
    "                     col=fig_placement[1])\n",
    "    fig.update_traces(marker=dict(color=\"rgba(255,255,255)\",opacity=0))\n",
    "    \n",
    "    annotations = []\n",
    "    isArray = type(word1) == list\n",
    "    print(f\"plotting at: (x{fig_placement[1]}, y{fig_placement[0]})\")\n",
    "    for i in range(len(words)):\n",
    "        pt = fitted[i]\n",
    "\n",
    "        ww,decade = [w.strip() for w in words[i].split(\"|\")]\n",
    "        decade = \"-\".join(decade.split(\"_\"))\n",
    "        \n",
    "        color = \"green\"\n",
    "\n",
    "        word = ww\n",
    "        # word1 is the word we are plotting against\n",
    "        if ww == word1 or (isArray and ww in word1):\n",
    "            if len(decade) == 4:\n",
    "                decade = int(decade)\n",
    "                decade += 2 \n",
    "            annotations.append((ww, decade, pt))\n",
    "            # annotations.append(pt)\n",
    "            word = decade\n",
    "            color = 'black'\n",
    "            sizing = 11\n",
    "        else:\n",
    "            sizing = sims[words[i]] * 17\n",
    "        fig.add_annotation(text = word,\n",
    "                            row= fig_placement[0],\n",
    "                            col= fig_placement[1],\n",
    "                            x = pt[0], \n",
    "                            y = pt[1], \n",
    "                            showarrow=False,\n",
    "                            font=dict(color=color,size=sizing)\n",
    "                            )\n",
    "    return fig, annotations\n",
    "\n",
    "def plot_annotations_plotly(annotations,fig, fig_placement):\n",
    "    # draw the movement between the word through the decades as a series of\n",
    "    # annotations on the graph\n",
    "    annotations.sort(key=lambda w: w[1], reverse=True)\n",
    "    annotations = [x[-1] for x in annotations]\n",
    "    def scale(x): \n",
    "        dist=math.dist(x[0],x[1])\n",
    "        # if dist > 1: k = 1/dist \n",
    "        # else: k=1\n",
    "        k=1\n",
    "        return (x[1]-x[0])*(1-k)+x[0]\n",
    "    prev = np.stack(annotations)[0]\n",
    "    for x in np.stack(annotations)[1:]:\n",
    "        coordinate_scaled_from = scale(np.asarray([prev,x]))\n",
    "        coordinate_scaled_to = scale(np.asarray([x,prev]))\n",
    "        coordinates = np.stack([coordinate_scaled_from,coordinate_scaled_to])\n",
    "        fig.add_scatter(x=coordinates[:,0],\n",
    "                        y=coordinates[:,1],\n",
    "                        mode=\"lines\",\n",
    "                        line=dict(width=0.5,color=\"green\"),\n",
    "                        row= fig_placement[0],\n",
    "                        col= fig_placement[1])\n",
    "        prev=x\n",
    "\n",
    "    return fig\n",
    "\n",
    "def query_TSNE_plot_emb(query_word,                #Word that is queried\n",
    "                        embeddings_time,           #List with KeyedVectors for each timeperiod \n",
    "                        top_n=3,                   #The top X most similar words for each time period\n",
    "                        timespan=[],               #Custom list time period names mapping embeddings_time to a time period\n",
    "                        aggregation_interval=5,    #If no custom list, aggregation interval is the aggregated years \n",
    "                                                   # following year start that is included in the time period\n",
    "                        year_start=1867,           #Year that the timeperiod start\n",
    "                        interval_sampled=1         #Only include every x time of the embedding\n",
    "                        ):  \n",
    "    if type(interval_sampled)==dict: interval_sampled=interval_sampled[\"interval_sampled\"]       \n",
    "    query_embeddings = {}\n",
    "    list_of_unique_words = []\n",
    "    query_similar_word = {}\n",
    "    query_similar_word_score = {}\n",
    "    for index, model in enumerate(embeddings_time[::interval_sampled]):\n",
    "        if timespan ==[]:\n",
    "            current_time_period = index*interval_sampled*aggregation_interval+year_start\n",
    "        else: \n",
    "            current_time_period = timespan[index]\n",
    "        query_word_embedding = model.get_vector(query_word,norm=True)\n",
    "        query_embeddings.update({f\"{query_word}|{current_time_period}\":query_word_embedding})\n",
    "        most_sim_words = model.most_similar(query_word,topn=top_n)\n",
    "        for sim_word in most_sim_words:\n",
    "            if sim_word[0] in list_of_unique_words:\n",
    "                continue\n",
    "            if sim_word[1]<0.4:\n",
    "                continue\n",
    "            sim_word_embedding = embeddings_time[-1].get_vector(sim_word[0],norm=True)\n",
    "            query_similar_word.update({f\"{sim_word[0]}|{index}\" : sim_word_embedding})\n",
    "            query_similar_word_score.update({f\"{sim_word[0]}|{index}\" : sim_word[1]})\n",
    "            list_of_unique_words.append(sim_word[0])\n",
    "    embeddings_to_plot = query_embeddings\n",
    "    embeddings_to_plot.update(query_similar_word) \n",
    "    return embeddings_to_plot, query_similar_word_score\n",
    "\n",
    "\n",
    "def create_subplot(query_word, embeddings_time, fig, fig_placement, **kwargs):\n",
    "    embeddings_to_plot, similar_word_score = query_TSNE_plot_emb(\n",
    "                                                query_word,\n",
    "                                                embeddings_time,\n",
    "                                                **kwargs)\n",
    "    #FIT TSNE\n",
    "    mat = np.array([embeddings_to_plot[word] for word in embeddings_to_plot])\n",
    "    model = TSNE(n_components=2, random_state=0, learning_rate=200, init='pca')\n",
    "    fitted = model.fit_transform(mat)\n",
    "    #PLOT\n",
    "    fig, annotations = plot_words_plotly(query_word,\n",
    "                                        list(embeddings_to_plot.keys()),\n",
    "                                        fitted,\n",
    "                                        similar_word_score,\n",
    "                                        fig,\n",
    "                                        fig_placement)\n",
    "    fig = plot_annotations_plotly(annotations,fig,fig_placement)\n",
    "    return fig"
   ]
  },
  {
   "cell_type": "code",
   "execution_count": 13,
   "metadata": {},
   "outputs": [],
   "source": [
    "from gensim.models import KeyedVectors\n",
    "\n",
    "INTERVAL = range(1867,2027,5)\n",
    "interval_range = [range(x[0],x[1]) for x in zip(INTERVAL[:-1],INTERVAL[1:])] \n",
    "timespans = list(zip(INTERVAL[:-1],INTERVAL[1:]))\n",
    "timespans = [f\"{x}_{y}\" for x,y in timespans]\n",
    "dw2v_kws = [KeyedVectors.load(f\"kw/dw2v_emb_{x}.kv\") for x in timespans]"
   ]
  },
  {
   "cell_type": "code",
   "execution_count": 23,
   "metadata": {},
   "outputs": [
    {
     "name": "stdout",
     "output_type": "stream",
     "text": [
      "plotting at: (x1, y1)\n"
     ]
    },
    {
     "data": {
      "application/vnd.plotly.v1+json": {
       "config": {
        "plotlyServerURL": "https://plot.ly"
       },
       "data": [
        {
         "marker": {
          "color": "rgba(255,255,255)",
          "opacity": 0
         },
         "mode": "text",
         "type": "scatter",
         "x": [],
         "xaxis": "x",
         "y": [],
         "yaxis": "y"
        },
        {
         "line": {
          "color": "green",
          "width": 0.5
         },
         "mode": "lines",
         "type": "scatter",
         "x": [
          22.465492248535156,
          16.636438369750977
         ],
         "xaxis": "x",
         "y": [
          -5.619301795959473,
          -5.8481268882751465
         ],
         "yaxis": "y"
        },
        {
         "line": {
          "color": "green",
          "width": 0.5
         },
         "mode": "lines",
         "type": "scatter",
         "x": [
          16.636438369750977,
          19.180130004882812
         ],
         "xaxis": "x",
         "y": [
          -5.8481268882751465,
          -11.973650932312012
         ],
         "yaxis": "y"
        },
        {
         "line": {
          "color": "green",
          "width": 0.5
         },
         "mode": "lines",
         "type": "scatter",
         "x": [
          19.180130004882812,
          12.560859680175781
         ],
         "xaxis": "x",
         "y": [
          -11.973650932312012,
          -11.220637321472168
         ],
         "yaxis": "y"
        },
        {
         "line": {
          "color": "green",
          "width": 0.5
         },
         "mode": "lines",
         "type": "scatter",
         "x": [
          12.560859680175781,
          9.198626518249512
         ],
         "xaxis": "x",
         "y": [
          -11.220637321472168,
          -5.179636478424072
         ],
         "yaxis": "y"
        },
        {
         "line": {
          "color": "green",
          "width": 0.5
         },
         "mode": "lines",
         "type": "scatter",
         "x": [
          9.198626518249512,
          5.121016025543213
         ],
         "xaxis": "x",
         "y": [
          -5.179636478424072,
          -10.453851699829102
         ],
         "yaxis": "y"
        },
        {
         "line": {
          "color": "green",
          "width": 0.5
         },
         "mode": "lines",
         "type": "scatter",
         "x": [
          5.121016025543213,
          1.911982536315918
         ],
         "xaxis": "x",
         "y": [
          -10.453851699829102,
          -3.9586129188537598
         ],
         "yaxis": "y"
        },
        {
         "line": {
          "color": "green",
          "width": 0.5
         },
         "mode": "lines",
         "type": "scatter",
         "x": [
          1.911982536315918,
          -3.2277326583862305
         ],
         "xaxis": "x",
         "y": [
          -3.9586129188537598,
          -7.149726867675781
         ],
         "yaxis": "y"
        },
        {
         "line": {
          "color": "green",
          "width": 0.5
         },
         "mode": "lines",
         "type": "scatter",
         "x": [
          -3.2277326583862305,
          -1.3921931982040405
         ],
         "xaxis": "x",
         "y": [
          -7.149726867675781,
          -13.512754440307617
         ],
         "yaxis": "y"
        },
        {
         "line": {
          "color": "green",
          "width": 0.5
         },
         "mode": "lines",
         "type": "scatter",
         "x": [
          -1.3921931982040405,
          -0.8883675336837769
         ],
         "xaxis": "x",
         "y": [
          -13.512754440307617,
          -19.751062393188477
         ],
         "yaxis": "y"
        },
        {
         "line": {
          "color": "green",
          "width": 0.5
         },
         "mode": "lines",
         "type": "scatter",
         "x": [
          -0.8883675336837769,
          -7.7942681312561035
         ],
         "xaxis": "x",
         "y": [
          -19.751062393188477,
          -21.186830520629883
         ],
         "yaxis": "y"
        },
        {
         "line": {
          "color": "green",
          "width": 0.5
         },
         "mode": "lines",
         "type": "scatter",
         "x": [
          -7.7942681312561035,
          -8.935331344604492
         ],
         "xaxis": "x",
         "y": [
          -21.186830520629883,
          -14.832819938659668
         ],
         "yaxis": "y"
        },
        {
         "line": {
          "color": "green",
          "width": 0.5
         },
         "mode": "lines",
         "type": "scatter",
         "x": [
          -8.935331344604492,
          -15.23694133758545
         ],
         "xaxis": "x",
         "y": [
          -14.832819938659668,
          -14.34325885772705
         ],
         "yaxis": "y"
        },
        {
         "line": {
          "color": "green",
          "width": 0.5
         },
         "mode": "lines",
         "type": "scatter",
         "x": [
          -15.23694133758545,
          -12.17220401763916
         ],
         "xaxis": "x",
         "y": [
          -14.34325885772705,
          -7.729892730712891
         ],
         "yaxis": "y"
        },
        {
         "line": {
          "color": "green",
          "width": 0.5
         },
         "mode": "lines",
         "type": "scatter",
         "x": [
          -12.17220401763916,
          -18.462060928344727
         ],
         "xaxis": "x",
         "y": [
          -7.729892730712891,
          -6.936619281768799
         ],
         "yaxis": "y"
        },
        {
         "line": {
          "color": "green",
          "width": 0.5
         },
         "mode": "lines",
         "type": "scatter",
         "x": [
          -18.462060928344727,
          -13.317107200622559
         ],
         "xaxis": "x",
         "y": [
          -6.936619281768799,
          -0.7728171944618225
         ],
         "yaxis": "y"
        },
        {
         "line": {
          "color": "green",
          "width": 0.5
         },
         "mode": "lines",
         "type": "scatter",
         "x": [
          -13.317107200622559,
          -20.14914894104004
         ],
         "xaxis": "x",
         "y": [
          -0.7728171944618225,
          0.035835325717926025
         ],
         "yaxis": "y"
        },
        {
         "line": {
          "color": "green",
          "width": 0.5
         },
         "mode": "lines",
         "type": "scatter",
         "x": [
          -20.14914894104004,
          -16.835494995117188
         ],
         "xaxis": "x",
         "y": [
          0.035835325717926025,
          6.191151142120361
         ],
         "yaxis": "y"
        },
        {
         "line": {
          "color": "green",
          "width": 0.5
         },
         "mode": "lines",
         "type": "scatter",
         "x": [
          -16.835494995117188,
          -22.218637466430664
         ],
         "xaxis": "x",
         "y": [
          6.191151142120361,
          9.839327812194824
         ],
         "yaxis": "y"
        },
        {
         "line": {
          "color": "green",
          "width": 0.5
         },
         "mode": "lines",
         "type": "scatter",
         "x": [
          -22.218637466430664,
          -28.996868133544922
         ],
         "xaxis": "x",
         "y": [
          9.839327812194824,
          11.16329574584961
         ],
         "yaxis": "y"
        },
        {
         "line": {
          "color": "green",
          "width": 0.5
         },
         "mode": "lines",
         "type": "scatter",
         "x": [
          -28.996868133544922,
          -27.96560287475586
         ],
         "xaxis": "x",
         "y": [
          11.16329574584961,
          4.290429592132568
         ],
         "yaxis": "y"
        },
        {
         "line": {
          "color": "green",
          "width": 0.5
         },
         "mode": "lines",
         "type": "scatter",
         "x": [
          -27.96560287475586,
          -34.91099166870117
         ],
         "xaxis": "x",
         "y": [
          4.290429592132568,
          5.65913200378418
         ],
         "yaxis": "y"
        },
        {
         "line": {
          "color": "green",
          "width": 0.5
         },
         "mode": "lines",
         "type": "scatter",
         "x": [
          -34.91099166870117,
          -31.967741012573242
         ],
         "xaxis": "x",
         "y": [
          5.65913200378418,
          -1.32725191116333
         ],
         "yaxis": "y"
        },
        {
         "line": {
          "color": "green",
          "width": 0.5
         },
         "mode": "lines",
         "type": "scatter",
         "x": [
          -31.967741012573242,
          -39.932289123535156
         ],
         "xaxis": "x",
         "y": [
          -1.32725191116333,
          -0.518653154373169
         ],
         "yaxis": "y"
        },
        {
         "line": {
          "color": "green",
          "width": 0.5
         },
         "mode": "lines",
         "type": "scatter",
         "x": [
          -39.932289123535156,
          -36.50660705566406
         ],
         "xaxis": "x",
         "y": [
          -0.518653154373169,
          -6.664599418640137
         ],
         "yaxis": "y"
        },
        {
         "line": {
          "color": "green",
          "width": 0.5
         },
         "mode": "lines",
         "type": "scatter",
         "x": [
          -36.50660705566406,
          -42.735286712646484
         ],
         "xaxis": "x",
         "y": [
          -6.664599418640137,
          -9.319221496582031
         ],
         "yaxis": "y"
        },
        {
         "line": {
          "color": "green",
          "width": 0.5
         },
         "mode": "lines",
         "type": "scatter",
         "x": [
          -42.735286712646484,
          -38.59542465209961
         ],
         "xaxis": "x",
         "y": [
          -9.319221496582031,
          -14.955158233642578
         ],
         "yaxis": "y"
        },
        {
         "line": {
          "color": "green",
          "width": 0.5
         },
         "mode": "lines",
         "type": "scatter",
         "x": [
          -38.59542465209961,
          -31.673221588134766
         ],
         "xaxis": "x",
         "y": [
          -14.955158233642578,
          -12.711113929748535
         ],
         "yaxis": "y"
        },
        {
         "line": {
          "color": "green",
          "width": 0.5
         },
         "mode": "lines",
         "type": "scatter",
         "x": [
          -31.673221588134766,
          -33.32123947143555
         ],
         "xaxis": "x",
         "y": [
          -12.711113929748535,
          -19.812816619873047
         ],
         "yaxis": "y"
        },
        {
         "line": {
          "color": "green",
          "width": 0.5
         },
         "mode": "lines",
         "type": "scatter",
         "x": [
          -33.32123947143555,
          -27.2769775390625
         ],
         "xaxis": "x",
         "y": [
          -19.812816619873047,
          -22.6098575592041
         ],
         "yaxis": "y"
        },
        {
         "line": {
          "color": "green",
          "width": 0.5
         },
         "mode": "lines",
         "type": "scatter",
         "x": [
          -27.2769775390625,
          -25.479469299316406
         ],
         "xaxis": "x",
         "y": [
          -22.6098575592041,
          -16.393888473510742
         ],
         "yaxis": "y"
        }
       ],
       "layout": {
        "annotations": [
         {
          "font": {
           "color": "black",
           "size": 11
          },
          "showarrow": false,
          "text": "1869",
          "x": -25.479469299316406,
          "xref": "x",
          "y": -16.393888473510742,
          "yref": "y"
         },
         {
          "font": {
           "color": "black",
           "size": 11
          },
          "showarrow": false,
          "text": "1874",
          "x": -27.2769775390625,
          "xref": "x",
          "y": -22.6098575592041,
          "yref": "y"
         },
         {
          "font": {
           "color": "black",
           "size": 11
          },
          "showarrow": false,
          "text": "1879",
          "x": -33.32123947143555,
          "xref": "x",
          "y": -19.812816619873047,
          "yref": "y"
         },
         {
          "font": {
           "color": "black",
           "size": 11
          },
          "showarrow": false,
          "text": "1884",
          "x": -31.673221588134766,
          "xref": "x",
          "y": -12.711113929748535,
          "yref": "y"
         },
         {
          "font": {
           "color": "black",
           "size": 11
          },
          "showarrow": false,
          "text": "1889",
          "x": -38.59542465209961,
          "xref": "x",
          "y": -14.955158233642578,
          "yref": "y"
         },
         {
          "font": {
           "color": "black",
           "size": 11
          },
          "showarrow": false,
          "text": "1894",
          "x": -42.735286712646484,
          "xref": "x",
          "y": -9.319221496582031,
          "yref": "y"
         },
         {
          "font": {
           "color": "black",
           "size": 11
          },
          "showarrow": false,
          "text": "1899",
          "x": -36.50660705566406,
          "xref": "x",
          "y": -6.664599418640137,
          "yref": "y"
         },
         {
          "font": {
           "color": "black",
           "size": 11
          },
          "showarrow": false,
          "text": "1904",
          "x": -39.932289123535156,
          "xref": "x",
          "y": -0.518653154373169,
          "yref": "y"
         },
         {
          "font": {
           "color": "black",
           "size": 11
          },
          "showarrow": false,
          "text": "1909",
          "x": -31.967741012573242,
          "xref": "x",
          "y": -1.32725191116333,
          "yref": "y"
         },
         {
          "font": {
           "color": "black",
           "size": 11
          },
          "showarrow": false,
          "text": "1914",
          "x": -34.91099166870117,
          "xref": "x",
          "y": 5.65913200378418,
          "yref": "y"
         },
         {
          "font": {
           "color": "black",
           "size": 11
          },
          "showarrow": false,
          "text": "1919",
          "x": -27.96560287475586,
          "xref": "x",
          "y": 4.290429592132568,
          "yref": "y"
         },
         {
          "font": {
           "color": "black",
           "size": 11
          },
          "showarrow": false,
          "text": "1924",
          "x": -28.996868133544922,
          "xref": "x",
          "y": 11.16329574584961,
          "yref": "y"
         },
         {
          "font": {
           "color": "black",
           "size": 11
          },
          "showarrow": false,
          "text": "1929",
          "x": -22.218637466430664,
          "xref": "x",
          "y": 9.839327812194824,
          "yref": "y"
         },
         {
          "font": {
           "color": "black",
           "size": 11
          },
          "showarrow": false,
          "text": "1934",
          "x": -16.835494995117188,
          "xref": "x",
          "y": 6.191151142120361,
          "yref": "y"
         },
         {
          "font": {
           "color": "black",
           "size": 11
          },
          "showarrow": false,
          "text": "1939",
          "x": -20.14914894104004,
          "xref": "x",
          "y": 0.035835325717926025,
          "yref": "y"
         },
         {
          "font": {
           "color": "black",
           "size": 11
          },
          "showarrow": false,
          "text": "1944",
          "x": -13.317107200622559,
          "xref": "x",
          "y": -0.7728171944618225,
          "yref": "y"
         },
         {
          "font": {
           "color": "black",
           "size": 11
          },
          "showarrow": false,
          "text": "1949",
          "x": -18.462060928344727,
          "xref": "x",
          "y": -6.936619281768799,
          "yref": "y"
         },
         {
          "font": {
           "color": "black",
           "size": 11
          },
          "showarrow": false,
          "text": "1954",
          "x": -12.17220401763916,
          "xref": "x",
          "y": -7.729892730712891,
          "yref": "y"
         },
         {
          "font": {
           "color": "black",
           "size": 11
          },
          "showarrow": false,
          "text": "1959",
          "x": -15.23694133758545,
          "xref": "x",
          "y": -14.34325885772705,
          "yref": "y"
         },
         {
          "font": {
           "color": "black",
           "size": 11
          },
          "showarrow": false,
          "text": "1964",
          "x": -8.935331344604492,
          "xref": "x",
          "y": -14.832819938659668,
          "yref": "y"
         },
         {
          "font": {
           "color": "black",
           "size": 11
          },
          "showarrow": false,
          "text": "1969",
          "x": -7.7942681312561035,
          "xref": "x",
          "y": -21.186830520629883,
          "yref": "y"
         },
         {
          "font": {
           "color": "black",
           "size": 11
          },
          "showarrow": false,
          "text": "1974",
          "x": -0.8883675336837769,
          "xref": "x",
          "y": -19.751062393188477,
          "yref": "y"
         },
         {
          "font": {
           "color": "black",
           "size": 11
          },
          "showarrow": false,
          "text": "1979",
          "x": -1.3921931982040405,
          "xref": "x",
          "y": -13.512754440307617,
          "yref": "y"
         },
         {
          "font": {
           "color": "black",
           "size": 11
          },
          "showarrow": false,
          "text": "1984",
          "x": -3.2277326583862305,
          "xref": "x",
          "y": -7.149726867675781,
          "yref": "y"
         },
         {
          "font": {
           "color": "black",
           "size": 11
          },
          "showarrow": false,
          "text": "1989",
          "x": 1.911982536315918,
          "xref": "x",
          "y": -3.9586129188537598,
          "yref": "y"
         },
         {
          "font": {
           "color": "black",
           "size": 11
          },
          "showarrow": false,
          "text": "1994",
          "x": 5.121016025543213,
          "xref": "x",
          "y": -10.453851699829102,
          "yref": "y"
         },
         {
          "font": {
           "color": "black",
           "size": 11
          },
          "showarrow": false,
          "text": "1999",
          "x": 9.198626518249512,
          "xref": "x",
          "y": -5.179636478424072,
          "yref": "y"
         },
         {
          "font": {
           "color": "black",
           "size": 11
          },
          "showarrow": false,
          "text": "2004",
          "x": 12.560859680175781,
          "xref": "x",
          "y": -11.220637321472168,
          "yref": "y"
         },
         {
          "font": {
           "color": "black",
           "size": 11
          },
          "showarrow": false,
          "text": "2009",
          "x": 19.180130004882812,
          "xref": "x",
          "y": -11.973650932312012,
          "yref": "y"
         },
         {
          "font": {
           "color": "black",
           "size": 11
          },
          "showarrow": false,
          "text": "2014",
          "x": 16.636438369750977,
          "xref": "x",
          "y": -5.8481268882751465,
          "yref": "y"
         },
         {
          "font": {
           "color": "black",
           "size": 11
          },
          "showarrow": false,
          "text": "2019",
          "x": 22.465492248535156,
          "xref": "x",
          "y": -5.619301795959473,
          "yref": "y"
         },
         {
          "font": {
           "color": "green",
           "size": 8.930582761764526
          },
          "showarrow": false,
          "text": "brænder",
          "x": -13.672881126403809,
          "xref": "x",
          "y": 32.737396240234375,
          "yref": "y"
         },
         {
          "font": {
           "color": "green",
           "size": 8.425706893205643
          },
          "showarrow": false,
          "text": "troværdig",
          "x": 38.63247299194336,
          "xref": "x",
          "y": 23.160791397094727,
          "yref": "y"
         },
         {
          "font": {
           "color": "green",
           "size": 8.082944512367249
          },
          "showarrow": false,
          "text": "lorenzen",
          "x": 18.029630661010742,
          "xref": "x",
          "y": 44.09988784790039,
          "yref": "y"
         },
         {
          "font": {
           "color": "green",
           "size": 8.49778699874878
          },
          "showarrow": false,
          "text": "redelig",
          "x": 46.67524719238281,
          "xref": "x",
          "y": 28.31842803955078,
          "yref": "y"
         },
         {
          "font": {
           "color": "green",
           "size": 8.364223152399063
          },
          "showarrow": false,
          "text": "kvinde",
          "x": 16.971641540527344,
          "xref": "x",
          "y": 1.2853639125823975,
          "yref": "y"
         },
         {
          "font": {
           "color": "green",
           "size": 8.19799068570137
          },
          "showarrow": false,
          "text": "dygtig",
          "x": 28.47991371154785,
          "xref": "x",
          "y": 18.710046768188477,
          "yref": "y"
         },
         {
          "font": {
           "color": "green",
           "size": 8.440898478031158
          },
          "showarrow": false,
          "text": "bosiddende",
          "x": 4.471196174621582,
          "xref": "x",
          "y": 24.465078353881836,
          "yref": "y"
         },
         {
          "font": {
           "color": "green",
           "size": 8.17141592502594
          },
          "showarrow": false,
          "text": "hænger",
          "x": -6.377974510192871,
          "xref": "x",
          "y": 39.89780807495117,
          "yref": "y"
         },
         {
          "font": {
           "color": "green",
           "size": 9.239569008350372
          },
          "showarrow": false,
          "text": "underbilag",
          "x": 31.8802547454834,
          "xref": "x",
          "y": 36.4654541015625,
          "yref": "y"
         },
         {
          "font": {
           "color": "green",
           "size": 8.559744954109192
          },
          "showarrow": false,
          "text": "sagesløs",
          "x": 42.779335021972656,
          "xref": "x",
          "y": -5.180152893066406,
          "yref": "y"
         },
         {
          "font": {
           "color": "green",
           "size": 8.416873127222061
          },
          "showarrow": false,
          "text": "separationen",
          "x": 6.654595851898193,
          "xref": "x",
          "y": -28.79491424560547,
          "yref": "y"
         },
         {
          "font": {
           "color": "green",
           "size": 7.199663162231445
          },
          "showarrow": false,
          "text": "ung",
          "x": 22.083768844604492,
          "xref": "x",
          "y": 8.291988372802734,
          "yref": "y"
         },
         {
          "font": {
           "color": "green",
           "size": 7.953301042318344
          },
          "showarrow": false,
          "text": "bon",
          "x": 23.53717041015625,
          "xref": "x",
          "y": 37.628231048583984,
          "yref": "y"
         },
         {
          "font": {
           "color": "green",
           "size": 8.605735659599304
          },
          "showarrow": false,
          "text": "voksen",
          "x": 15.553511619567871,
          "xref": "x",
          "y": 8.750713348388672,
          "yref": "y"
         },
         {
          "font": {
           "color": "green",
           "size": 7.508837878704071
          },
          "showarrow": false,
          "text": "beskikke",
          "x": 14.991928100585938,
          "xref": "x",
          "y": 23.732685089111328,
          "yref": "y"
         },
         {
          "font": {
           "color": "green",
           "size": 7.098723858594894
          },
          "showarrow": false,
          "text": "navngiven",
          "x": 43.060794830322266,
          "xref": "x",
          "y": 0.5542859435081482,
          "yref": "y"
         },
         {
          "font": {
           "color": "green",
           "size": 8.09252455830574
          },
          "showarrow": false,
          "text": "nemt",
          "x": -8.357383728027344,
          "xref": "x",
          "y": 33.58277130126953,
          "yref": "y"
         },
         {
          "font": {
           "color": "green",
           "size": 10.1472247838974
          },
          "showarrow": false,
          "text": "lånt",
          "x": 33.1845703125,
          "xref": "x",
          "y": 6.443811893463135,
          "yref": "y"
         },
         {
          "font": {
           "color": "green",
           "size": 8.040170967578888
          },
          "showarrow": false,
          "text": "adopteret",
          "x": 7.006455421447754,
          "xref": "x",
          "y": 6.46216344833374,
          "yref": "y"
         },
         {
          "font": {
           "color": "green",
           "size": 8.95321536064148
          },
          "showarrow": false,
          "text": "mus",
          "x": -20.11899757385254,
          "xref": "x",
          "y": 26.03295135498047,
          "yref": "y"
         },
         {
          "font": {
           "color": "green",
           "size": 8.782890260219574
          },
          "showarrow": false,
          "text": "dræbte",
          "x": 32.279048919677734,
          "xref": "x",
          "y": -7.770420551300049,
          "yref": "y"
         },
         {
          "font": {
           "color": "green",
           "size": 10.638830244541168
          },
          "showarrow": false,
          "text": "beskrev",
          "x": 33.18922805786133,
          "xref": "x",
          "y": 28.2685489654541,
          "yref": "y"
         },
         {
          "font": {
           "color": "green",
           "size": 10.273281753063202
          },
          "showarrow": false,
          "text": "cl",
          "x": 19.592670440673828,
          "xref": "x",
          "y": 32.36418914794922,
          "yref": "y"
         },
         {
          "font": {
           "color": "green",
           "size": 10.028702557086945
          },
          "showarrow": false,
          "text": "samarbejdede",
          "x": 33.04926681518555,
          "xref": "x",
          "y": 14.554893493652344,
          "yref": "y"
         },
         {
          "font": {
           "color": "green",
           "size": 7.990557789802551
          },
          "showarrow": false,
          "text": "aarig",
          "x": 20.02532958984375,
          "xref": "x",
          "y": -25.204998016357422,
          "yref": "y"
         },
         {
          "font": {
           "color": "green",
           "size": 7.597224175930023
          },
          "showarrow": false,
          "text": "fraskilte",
          "x": -2.6504788398742676,
          "xref": "x",
          "y": 8.508785247802734,
          "yref": "y"
         },
         {
          "font": {
           "color": "green",
           "size": 7.6202985644340515
          },
          "showarrow": false,
          "text": "kjøbt",
          "x": 7.936873435974121,
          "xref": "x",
          "y": 39.177879333496094,
          "yref": "y"
         },
         {
          "font": {
           "color": "green",
           "size": 8.418171644210815
          },
          "showarrow": false,
          "text": "samlever",
          "x": 6.6784443855285645,
          "xref": "x",
          "y": 17.412887573242188,
          "yref": "y"
         },
         {
          "font": {
           "color": "green",
           "size": 8.126823037862778
          },
          "showarrow": false,
          "text": "arbejdsgruppe",
          "x": 39.506961822509766,
          "xref": "x",
          "y": 42.50796890258789,
          "yref": "y"
         },
         {
          "font": {
           "color": "green",
           "size": 9.280661523342133
          },
          "showarrow": false,
          "text": "ubekendt",
          "x": 45.97978591918945,
          "xref": "x",
          "y": 12.990196228027344,
          "yref": "y"
         },
         {
          "font": {
           "color": "green",
           "size": 8.83221060037613
          },
          "showarrow": false,
          "text": "levet",
          "x": -3.5067434310913086,
          "xref": "x",
          "y": 18.674503326416016,
          "yref": "y"
         },
         {
          "font": {
           "color": "green",
           "size": 9.938741624355316
          },
          "showarrow": false,
          "text": "ugift",
          "x": 2.0550570487976074,
          "xref": "x",
          "y": 13.865504264831543,
          "yref": "y"
         },
         {
          "font": {
           "color": "green",
           "size": 10.79329651594162
          },
          "showarrow": false,
          "text": "opmaaling",
          "x": 25.986602783203125,
          "xref": "x",
          "y": -18.87772560119629,
          "yref": "y"
         },
         {
          "font": {
           "color": "green",
           "size": 10.538291692733765
          },
          "showarrow": false,
          "text": "pige",
          "x": 20.976560592651367,
          "xref": "x",
          "y": 14.67008113861084,
          "yref": "y"
         },
         {
          "font": {
           "color": "green",
           "size": 9.72409063577652
          },
          "showarrow": false,
          "text": "datter",
          "x": 11.544892311096191,
          "xref": "x",
          "y": 14.213739395141602,
          "yref": "y"
         },
         {
          "font": {
           "color": "green",
           "size": 11.22213339805603
          },
          "showarrow": false,
          "text": "tømmeret",
          "x": 14.515069007873535,
          "xref": "x",
          "y": -18.9191951751709,
          "yref": "y"
         },
         {
          "font": {
           "color": "green",
           "size": 11.124850511550903
          },
          "showarrow": false,
          "text": "kvinden",
          "x": 25.210926055908203,
          "xref": "x",
          "y": 0.843974769115448,
          "yref": "y"
         }
        ],
        "template": {
         "data": {
          "bar": [
           {
            "error_x": {
             "color": "#2a3f5f"
            },
            "error_y": {
             "color": "#2a3f5f"
            },
            "marker": {
             "line": {
              "color": "#E5ECF6",
              "width": 0.5
             },
             "pattern": {
              "fillmode": "overlay",
              "size": 10,
              "solidity": 0.2
             }
            },
            "type": "bar"
           }
          ],
          "barpolar": [
           {
            "marker": {
             "line": {
              "color": "#E5ECF6",
              "width": 0.5
             },
             "pattern": {
              "fillmode": "overlay",
              "size": 10,
              "solidity": 0.2
             }
            },
            "type": "barpolar"
           }
          ],
          "carpet": [
           {
            "aaxis": {
             "endlinecolor": "#2a3f5f",
             "gridcolor": "white",
             "linecolor": "white",
             "minorgridcolor": "white",
             "startlinecolor": "#2a3f5f"
            },
            "baxis": {
             "endlinecolor": "#2a3f5f",
             "gridcolor": "white",
             "linecolor": "white",
             "minorgridcolor": "white",
             "startlinecolor": "#2a3f5f"
            },
            "type": "carpet"
           }
          ],
          "choropleth": [
           {
            "colorbar": {
             "outlinewidth": 0,
             "ticks": ""
            },
            "type": "choropleth"
           }
          ],
          "contour": [
           {
            "colorbar": {
             "outlinewidth": 0,
             "ticks": ""
            },
            "colorscale": [
             [
              0,
              "#0d0887"
             ],
             [
              0.1111111111111111,
              "#46039f"
             ],
             [
              0.2222222222222222,
              "#7201a8"
             ],
             [
              0.3333333333333333,
              "#9c179e"
             ],
             [
              0.4444444444444444,
              "#bd3786"
             ],
             [
              0.5555555555555556,
              "#d8576b"
             ],
             [
              0.6666666666666666,
              "#ed7953"
             ],
             [
              0.7777777777777778,
              "#fb9f3a"
             ],
             [
              0.8888888888888888,
              "#fdca26"
             ],
             [
              1,
              "#f0f921"
             ]
            ],
            "type": "contour"
           }
          ],
          "contourcarpet": [
           {
            "colorbar": {
             "outlinewidth": 0,
             "ticks": ""
            },
            "type": "contourcarpet"
           }
          ],
          "heatmap": [
           {
            "colorbar": {
             "outlinewidth": 0,
             "ticks": ""
            },
            "colorscale": [
             [
              0,
              "#0d0887"
             ],
             [
              0.1111111111111111,
              "#46039f"
             ],
             [
              0.2222222222222222,
              "#7201a8"
             ],
             [
              0.3333333333333333,
              "#9c179e"
             ],
             [
              0.4444444444444444,
              "#bd3786"
             ],
             [
              0.5555555555555556,
              "#d8576b"
             ],
             [
              0.6666666666666666,
              "#ed7953"
             ],
             [
              0.7777777777777778,
              "#fb9f3a"
             ],
             [
              0.8888888888888888,
              "#fdca26"
             ],
             [
              1,
              "#f0f921"
             ]
            ],
            "type": "heatmap"
           }
          ],
          "heatmapgl": [
           {
            "colorbar": {
             "outlinewidth": 0,
             "ticks": ""
            },
            "colorscale": [
             [
              0,
              "#0d0887"
             ],
             [
              0.1111111111111111,
              "#46039f"
             ],
             [
              0.2222222222222222,
              "#7201a8"
             ],
             [
              0.3333333333333333,
              "#9c179e"
             ],
             [
              0.4444444444444444,
              "#bd3786"
             ],
             [
              0.5555555555555556,
              "#d8576b"
             ],
             [
              0.6666666666666666,
              "#ed7953"
             ],
             [
              0.7777777777777778,
              "#fb9f3a"
             ],
             [
              0.8888888888888888,
              "#fdca26"
             ],
             [
              1,
              "#f0f921"
             ]
            ],
            "type": "heatmapgl"
           }
          ],
          "histogram": [
           {
            "marker": {
             "pattern": {
              "fillmode": "overlay",
              "size": 10,
              "solidity": 0.2
             }
            },
            "type": "histogram"
           }
          ],
          "histogram2d": [
           {
            "colorbar": {
             "outlinewidth": 0,
             "ticks": ""
            },
            "colorscale": [
             [
              0,
              "#0d0887"
             ],
             [
              0.1111111111111111,
              "#46039f"
             ],
             [
              0.2222222222222222,
              "#7201a8"
             ],
             [
              0.3333333333333333,
              "#9c179e"
             ],
             [
              0.4444444444444444,
              "#bd3786"
             ],
             [
              0.5555555555555556,
              "#d8576b"
             ],
             [
              0.6666666666666666,
              "#ed7953"
             ],
             [
              0.7777777777777778,
              "#fb9f3a"
             ],
             [
              0.8888888888888888,
              "#fdca26"
             ],
             [
              1,
              "#f0f921"
             ]
            ],
            "type": "histogram2d"
           }
          ],
          "histogram2dcontour": [
           {
            "colorbar": {
             "outlinewidth": 0,
             "ticks": ""
            },
            "colorscale": [
             [
              0,
              "#0d0887"
             ],
             [
              0.1111111111111111,
              "#46039f"
             ],
             [
              0.2222222222222222,
              "#7201a8"
             ],
             [
              0.3333333333333333,
              "#9c179e"
             ],
             [
              0.4444444444444444,
              "#bd3786"
             ],
             [
              0.5555555555555556,
              "#d8576b"
             ],
             [
              0.6666666666666666,
              "#ed7953"
             ],
             [
              0.7777777777777778,
              "#fb9f3a"
             ],
             [
              0.8888888888888888,
              "#fdca26"
             ],
             [
              1,
              "#f0f921"
             ]
            ],
            "type": "histogram2dcontour"
           }
          ],
          "mesh3d": [
           {
            "colorbar": {
             "outlinewidth": 0,
             "ticks": ""
            },
            "type": "mesh3d"
           }
          ],
          "parcoords": [
           {
            "line": {
             "colorbar": {
              "outlinewidth": 0,
              "ticks": ""
             }
            },
            "type": "parcoords"
           }
          ],
          "pie": [
           {
            "automargin": true,
            "type": "pie"
           }
          ],
          "scatter": [
           {
            "marker": {
             "colorbar": {
              "outlinewidth": 0,
              "ticks": ""
             }
            },
            "type": "scatter"
           }
          ],
          "scatter3d": [
           {
            "line": {
             "colorbar": {
              "outlinewidth": 0,
              "ticks": ""
             }
            },
            "marker": {
             "colorbar": {
              "outlinewidth": 0,
              "ticks": ""
             }
            },
            "type": "scatter3d"
           }
          ],
          "scattercarpet": [
           {
            "marker": {
             "colorbar": {
              "outlinewidth": 0,
              "ticks": ""
             }
            },
            "type": "scattercarpet"
           }
          ],
          "scattergeo": [
           {
            "marker": {
             "colorbar": {
              "outlinewidth": 0,
              "ticks": ""
             }
            },
            "type": "scattergeo"
           }
          ],
          "scattergl": [
           {
            "marker": {
             "colorbar": {
              "outlinewidth": 0,
              "ticks": ""
             }
            },
            "type": "scattergl"
           }
          ],
          "scattermapbox": [
           {
            "marker": {
             "colorbar": {
              "outlinewidth": 0,
              "ticks": ""
             }
            },
            "type": "scattermapbox"
           }
          ],
          "scatterpolar": [
           {
            "marker": {
             "colorbar": {
              "outlinewidth": 0,
              "ticks": ""
             }
            },
            "type": "scatterpolar"
           }
          ],
          "scatterpolargl": [
           {
            "marker": {
             "colorbar": {
              "outlinewidth": 0,
              "ticks": ""
             }
            },
            "type": "scatterpolargl"
           }
          ],
          "scatterternary": [
           {
            "marker": {
             "colorbar": {
              "outlinewidth": 0,
              "ticks": ""
             }
            },
            "type": "scatterternary"
           }
          ],
          "surface": [
           {
            "colorbar": {
             "outlinewidth": 0,
             "ticks": ""
            },
            "colorscale": [
             [
              0,
              "#0d0887"
             ],
             [
              0.1111111111111111,
              "#46039f"
             ],
             [
              0.2222222222222222,
              "#7201a8"
             ],
             [
              0.3333333333333333,
              "#9c179e"
             ],
             [
              0.4444444444444444,
              "#bd3786"
             ],
             [
              0.5555555555555556,
              "#d8576b"
             ],
             [
              0.6666666666666666,
              "#ed7953"
             ],
             [
              0.7777777777777778,
              "#fb9f3a"
             ],
             [
              0.8888888888888888,
              "#fdca26"
             ],
             [
              1,
              "#f0f921"
             ]
            ],
            "type": "surface"
           }
          ],
          "table": [
           {
            "cells": {
             "fill": {
              "color": "#EBF0F8"
             },
             "line": {
              "color": "white"
             }
            },
            "header": {
             "fill": {
              "color": "#C8D4E3"
             },
             "line": {
              "color": "white"
             }
            },
            "type": "table"
           }
          ]
         },
         "layout": {
          "annotationdefaults": {
           "arrowcolor": "#2a3f5f",
           "arrowhead": 0,
           "arrowwidth": 1
          },
          "autotypenumbers": "strict",
          "coloraxis": {
           "colorbar": {
            "outlinewidth": 0,
            "ticks": ""
           }
          },
          "colorscale": {
           "diverging": [
            [
             0,
             "#8e0152"
            ],
            [
             0.1,
             "#c51b7d"
            ],
            [
             0.2,
             "#de77ae"
            ],
            [
             0.3,
             "#f1b6da"
            ],
            [
             0.4,
             "#fde0ef"
            ],
            [
             0.5,
             "#f7f7f7"
            ],
            [
             0.6,
             "#e6f5d0"
            ],
            [
             0.7,
             "#b8e186"
            ],
            [
             0.8,
             "#7fbc41"
            ],
            [
             0.9,
             "#4d9221"
            ],
            [
             1,
             "#276419"
            ]
           ],
           "sequential": [
            [
             0,
             "#0d0887"
            ],
            [
             0.1111111111111111,
             "#46039f"
            ],
            [
             0.2222222222222222,
             "#7201a8"
            ],
            [
             0.3333333333333333,
             "#9c179e"
            ],
            [
             0.4444444444444444,
             "#bd3786"
            ],
            [
             0.5555555555555556,
             "#d8576b"
            ],
            [
             0.6666666666666666,
             "#ed7953"
            ],
            [
             0.7777777777777778,
             "#fb9f3a"
            ],
            [
             0.8888888888888888,
             "#fdca26"
            ],
            [
             1,
             "#f0f921"
            ]
           ],
           "sequentialminus": [
            [
             0,
             "#0d0887"
            ],
            [
             0.1111111111111111,
             "#46039f"
            ],
            [
             0.2222222222222222,
             "#7201a8"
            ],
            [
             0.3333333333333333,
             "#9c179e"
            ],
            [
             0.4444444444444444,
             "#bd3786"
            ],
            [
             0.5555555555555556,
             "#d8576b"
            ],
            [
             0.6666666666666666,
             "#ed7953"
            ],
            [
             0.7777777777777778,
             "#fb9f3a"
            ],
            [
             0.8888888888888888,
             "#fdca26"
            ],
            [
             1,
             "#f0f921"
            ]
           ]
          },
          "colorway": [
           "#636efa",
           "#EF553B",
           "#00cc96",
           "#ab63fa",
           "#FFA15A",
           "#19d3f3",
           "#FF6692",
           "#B6E880",
           "#FF97FF",
           "#FECB52"
          ],
          "font": {
           "color": "#2a3f5f"
          },
          "geo": {
           "bgcolor": "white",
           "lakecolor": "white",
           "landcolor": "#E5ECF6",
           "showlakes": true,
           "showland": true,
           "subunitcolor": "white"
          },
          "hoverlabel": {
           "align": "left"
          },
          "hovermode": "closest",
          "mapbox": {
           "style": "light"
          },
          "paper_bgcolor": "white",
          "plot_bgcolor": "#E5ECF6",
          "polar": {
           "angularaxis": {
            "gridcolor": "white",
            "linecolor": "white",
            "ticks": ""
           },
           "bgcolor": "#E5ECF6",
           "radialaxis": {
            "gridcolor": "white",
            "linecolor": "white",
            "ticks": ""
           }
          },
          "scene": {
           "xaxis": {
            "backgroundcolor": "#E5ECF6",
            "gridcolor": "white",
            "gridwidth": 2,
            "linecolor": "white",
            "showbackground": true,
            "ticks": "",
            "zerolinecolor": "white"
           },
           "yaxis": {
            "backgroundcolor": "#E5ECF6",
            "gridcolor": "white",
            "gridwidth": 2,
            "linecolor": "white",
            "showbackground": true,
            "ticks": "",
            "zerolinecolor": "white"
           },
           "zaxis": {
            "backgroundcolor": "#E5ECF6",
            "gridcolor": "white",
            "gridwidth": 2,
            "linecolor": "white",
            "showbackground": true,
            "ticks": "",
            "zerolinecolor": "white"
           }
          },
          "shapedefaults": {
           "line": {
            "color": "#2a3f5f"
           }
          },
          "ternary": {
           "aaxis": {
            "gridcolor": "white",
            "linecolor": "white",
            "ticks": ""
           },
           "baxis": {
            "gridcolor": "white",
            "linecolor": "white",
            "ticks": ""
           },
           "bgcolor": "#E5ECF6",
           "caxis": {
            "gridcolor": "white",
            "linecolor": "white",
            "ticks": ""
           }
          },
          "title": {
           "x": 0.05
          },
          "xaxis": {
           "automargin": true,
           "gridcolor": "white",
           "linecolor": "white",
           "ticks": "",
           "title": {
            "standoff": 15
           },
           "zerolinecolor": "white",
           "zerolinewidth": 2
          },
          "yaxis": {
           "automargin": true,
           "gridcolor": "white",
           "linecolor": "white",
           "ticks": "",
           "title": {
            "standoff": 15
           },
           "zerolinecolor": "white",
           "zerolinewidth": 2
          }
         }
        },
        "xaxis": {
         "anchor": "y",
         "domain": [
          0,
          1
         ]
        },
        "yaxis": {
         "anchor": "x",
         "domain": [
          0,
          1
         ]
        }
       }
      }
     },
     "metadata": {},
     "output_type": "display_data"
    }
   ],
   "source": [
    "import plotly\n",
    "\n",
    "fig = plotly.subplots.make_subplots(1,1)\n",
    "create_subplot(\"mand\",dw2v_kws,fig,fig_placement = [1,1])"
   ]
  }
 ],
 "metadata": {
  "interpreter": {
   "hash": "376d8d79cd2091c00a22d38e2af9d5e367bc9894b34f007ae434211cc855c7e4"
  },
  "kernelspec": {
   "display_name": "Python 3.8.8 ('base')",
   "language": "python",
   "name": "python3"
  },
  "language_info": {
   "codemirror_mode": {
    "name": "ipython",
    "version": 3
   },
   "file_extension": ".py",
   "mimetype": "text/x-python",
   "name": "python",
   "nbconvert_exporter": "python",
   "pygments_lexer": "ipython3",
   "version": "3.8.8"
  },
  "orig_nbformat": 4
 },
 "nbformat": 4,
 "nbformat_minor": 2
}
