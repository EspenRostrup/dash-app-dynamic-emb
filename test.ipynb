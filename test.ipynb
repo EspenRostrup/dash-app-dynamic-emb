{
 "cells": [
  {
   "cell_type": "code",
   "execution_count": 1,
   "metadata": {},
   "outputs": [],
   "source": [
    "import gensim"
   ]
  },
  {
   "cell_type": "code",
   "execution_count": 4,
   "metadata": {},
   "outputs": [],
   "source": [
    "data = gensim.models.KeyedVectors.load(\"https://github.com/EspenRostrup/ufr-analysis/blob/main/embeddings/dw2v_embeddings/dw2v_emb_1867_1872.kv?raw=True\")"
   ]
  }
 ],
 "metadata": {
  "interpreter": {
   "hash": "152e18c6eddbd95180711874b61f57b07e3f16ebb816b75c8188993ef290b4bb"
  },
  "kernelspec": {
   "display_name": "Python 3.8.10 ('deeplearning-env')",
   "language": "python",
   "name": "python3"
  },
  "language_info": {
   "codemirror_mode": {
    "name": "ipython",
    "version": 3
   },
   "file_extension": ".py",
   "mimetype": "text/x-python",
   "name": "python",
   "nbconvert_exporter": "python",
   "pygments_lexer": "ipython3",
   "version": "3.8.10"
  },
  "orig_nbformat": 4
 },
 "nbformat": 4,
 "nbformat_minor": 2
}
